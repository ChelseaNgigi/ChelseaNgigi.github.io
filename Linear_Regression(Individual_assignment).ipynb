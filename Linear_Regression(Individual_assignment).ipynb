{
  "nbformat": 4,
  "nbformat_minor": 0,
  "metadata": {
    "colab": {
      "name": "Linear_Regression(Individual assignment).ipynb",
      "provenance": [],
      "collapsed_sections": [],
      "authorship_tag": "ABX9TyNdXIkUt1N0izTMhB7UvkN+",
      "include_colab_link": true
    },
    "kernelspec": {
      "name": "python3",
      "display_name": "Python 3"
    },
    "language_info": {
      "name": "python"
    }
  },
  "cells": [
    {
      "cell_type": "markdown",
      "metadata": {
        "id": "view-in-github",
        "colab_type": "text"
      },
      "source": [
        "<a href=\"https://colab.research.google.com/github/ChelseaNgigi/ChelseaNgigi.github.io/blob/main/Linear_Regression(Individual_assignment).ipynb\" target=\"_parent\"><img src=\"https://colab.research.google.com/assets/colab-badge.svg\" alt=\"Open In Colab\"/></a>"
      ]
    },
    {
      "cell_type": "code",
      "metadata": {
        "id": "ip5mDXF1zNXX"
      },
      "source": [
        "import numpy as np\n",
        "from sklearn.linear_model import LinearRegression\n",
        "from sklearn.metrics import mean_squared_error\n",
        "import matplotlib.pyplot as plt"
      ],
      "execution_count": 39,
      "outputs": []
    },
    {
      "cell_type": "markdown",
      "metadata": {
        "id": "c6BpIgui1mmB"
      },
      "source": [
        "Generate a fake Nairobi Office Price Simulated dataset of size 100 with :\n",
        " \n",
        "\n",
        "> One feature 𝒙 (office size assume a normal distribution)\n",
        "\n",
        "\n",
        "> one target 𝑦 (office price also assume a normal distribution).\n",
        "\n"
      ]
    },
    {
      "cell_type": "code",
      "metadata": {
        "colab": {
          "base_uri": "https://localhost:8080/"
        },
        "id": "yNtvH12d0DyP",
        "outputId": "a6abd23e-a300-4bad-c513-e5ba16516473"
      },
      "source": [
        "#Office size-Assuming the office sizes range at around 50 sq ft and the scale by 20\n",
        "x=np.random.normal(loc=50.0, scale=20.0, size=100)\n",
        "x"
      ],
      "execution_count": null,
      "outputs": [
        {
          "output_type": "execute_result",
          "data": {
            "text/plain": [
              "array([59.28121272, 70.17247721, 59.36373343, 24.86803382, 85.85658814,\n",
              "       60.46710165, 27.70406225, 93.41368892, 52.12998214, 45.11734993,\n",
              "       50.6731428 , 87.77961307, 28.61619127, 70.1158793 , 54.16084091,\n",
              "       51.75912612, 28.68975478, 64.8754815 , 44.23685577, 33.4900255 ,\n",
              "       82.2741008 , 57.6949042 , 58.05778404, 39.60895388, 69.07003485,\n",
              "       49.77594565, 84.78088936, 18.42867626, -1.50563835, 52.67812069,\n",
              "       27.27837949, 50.66356867, 27.86923856, 76.23446584, 21.94994075,\n",
              "       86.610118  , 66.99682206,  6.68961121, 19.03563628, 49.11125845,\n",
              "       36.88652609, 43.97722319, 43.39077217, 51.25478405, 65.69670328,\n",
              "       74.72914964, 38.72812689, 28.99544588, 30.90031712,  9.93411787,\n",
              "       -9.21464102, 56.63174526, 41.14870582, 29.37012945, 48.21839213,\n",
              "       53.39574685, 86.12269645, 46.48446389, 67.33822022, 63.36722468,\n",
              "       44.75806758, 42.32005595, 22.6741641 , 50.40793479, 68.63345444,\n",
              "       34.01337584, 56.43649762, 77.57464988, 50.26519959, 72.0725709 ,\n",
              "       50.3133544 , 18.65461989, 68.64513541, 44.58022324, 68.64404664,\n",
              "       52.46750324, 61.47655767,  5.62645518, 39.38013093, 50.9145499 ,\n",
              "       13.53354105, 22.41593279, 60.51105587, 67.66041779, 56.25944376,\n",
              "       70.97172101, 66.90639776, 56.51765963, 56.03674726, 22.21281032,\n",
              "       65.17494292, 58.36035813, 61.87543374, 38.12795258, 50.1918386 ,\n",
              "       49.77115704, 33.04091463, 55.53384132, 77.00264493, 43.83836946])"
            ]
          },
          "metadata": {
            "tags": []
          },
          "execution_count": 20
        }
      ]
    },
    {
      "cell_type": "code",
      "metadata": {
        "id": "LQNs-Stc5Cp_"
      },
      "source": [
        "#Office price-Assuming the office prices are dependent on office sizes and range at around 1000 and the scale by 100\n",
        "y=x*np.random.normal(loc=1000.0, scale=100.0,size=100)"
      ],
      "execution_count": null,
      "outputs": []
    },
    {
      "cell_type": "code",
      "metadata": {
        "colab": {
          "base_uri": "https://localhost:8080/"
        },
        "id": "SehPi2Kw5HCu",
        "outputId": "4be8b098-14dd-4b43-f61b-7e0db88dd116"
      },
      "source": [
        "y"
      ],
      "execution_count": null,
      "outputs": [
        {
          "output_type": "execute_result",
          "data": {
            "text/plain": [
              "array([57117.18785011, 81910.72254066, 64997.98480497, 25722.27530057,\n",
              "       67816.4289517 , 60379.81505716, 27684.69161312, 88439.08722058,\n",
              "       53162.13716578, 42974.23654138, 49703.05803435, 86683.31994076,\n",
              "       25158.00230261, 66226.91850123, 55930.72034781, 48185.38998698,\n",
              "       29958.24750277, 64949.07289502, 46823.86207085, 32463.41042321,\n",
              "       72176.93816272, 67292.37380359, 65656.32549998, 46687.89540297,\n",
              "       65208.20484844, 52071.51340236, 87500.37945486, 15774.3926194 ,\n",
              "       -1671.97832486, 53315.25006368, 26841.57860295, 44638.20668951,\n",
              "       32988.03842632, 77899.29632148, 21705.72775057, 83686.38835358,\n",
              "       58299.89700157,  7346.22691443, 16705.0293911 , 48284.45631907,\n",
              "       35636.47859027, 43869.72837064, 44199.58411816, 51315.61527544,\n",
              "       68374.89219947, 75108.04059055, 42433.11144704, 32462.58893879,\n",
              "       34695.95838473,  6926.47519214, -8240.08559389, 53161.08794681,\n",
              "       36513.62712212, 25635.04215861, 46573.45497484, 56116.20711234,\n",
              "       92322.64341669, 44091.11409795, 67546.60195206, 68357.91952617,\n",
              "       39446.31004429, 41949.40675361, 24911.37607718, 47791.11011079,\n",
              "       61711.38392533, 34242.1984429 , 58269.03529612, 85396.44900029,\n",
              "       53511.00400395, 58355.92020869, 50707.13769387, 20398.89002495,\n",
              "       72787.65264731, 41002.11506352, 70812.15794858, 54140.32651213,\n",
              "       58396.27950336,  5609.44445221, 40924.48742292, 44891.17350969,\n",
              "       11760.9386796 , 22268.60280959, 62877.33849619, 60954.66691439,\n",
              "       53551.64153767, 71549.34794314, 68456.53541221, 47871.04857258,\n",
              "       63879.47972114, 21294.28079854, 59596.25640695, 51867.0397339 ,\n",
              "       65895.10672802, 38755.7368951 , 46026.3762739 , 51100.32211114,\n",
              "       32568.3355099 , 44754.7977009 , 82417.1211382 , 37607.98071761])"
            ]
          },
          "metadata": {
            "tags": []
          },
          "execution_count": 22
        }
      ]
    },
    {
      "cell_type": "code",
      "metadata": {
        "colab": {
          "base_uri": "https://localhost:8080/",
          "height": 295
        },
        "id": "cCqkebvH-pH1",
        "outputId": "cf4ecdd5-aa3f-4819-8d39-b7b9f8d40525"
      },
      "source": [
        "plt.scatter(x, y)\n",
        "plt.title(\"(1).Plot the values of x and y\")\n",
        "plt.xlabel(\"Office size\")\n",
        "plt.ylabel(\"Office price\")\n",
        "plt.show()"
      ],
      "execution_count": null,
      "outputs": [
        {
          "output_type": "display_data",
          "data": {
            "image/png": "[encoded data removed]",
            "text/plain": [
              "<Figure size 432x288 with 1 Axes>"
            ]
          },
          "metadata": {
            "tags": [],
            "needs_background": "light"
          }
        }
      ]
    },
    {
      "cell_type": "markdown",
      "metadata": {
        "id": "hi_Xt7Q0uWoH"
      },
      "source": [
        "Class logic for :\n",
        " \n",
        "> Mean Squared Error to be used as your Performance Measure Technique\n",
        "\n",
        "> Gradient Descent as your learning algorithm\n",
        "\n"
      ]
    },
    {
      "cell_type": "code",
      "metadata": {
        "id": "rGnHkgbZ-l1q"
      },
      "source": [
        "class RegressionCalculator:\n",
        "    def y_hat_values(x):\n",
        "      m=10\n",
        "      c=2\n",
        "      N = len(x)\n",
        "      y_hat_values=[]\n",
        "      for _ in range(N):\n",
        "        y_hat=m*x + c\n",
        "        y_hat_values.append(y_hat)\n",
        "        break\n",
        "      return y_hat_values\n",
        "\n",
        "    def error_values(y,y_hat):\n",
        "      N = len(y)\n",
        "      error_values=[]\n",
        "      for _ in range(N):\n",
        "        error= (y-y_hat) ** 2\n",
        "        error_values.append(error)\n",
        "        break\n",
        "      return error_values\n",
        "\n",
        "    def meansquared_error(error):\n",
        "      sum=0\n",
        "      N = len(error)\n",
        "      for i in range(0,N):\n",
        "        sum = sum + error[i]\n",
        "      return sum/N\n",
        "\n",
        "    def gradient_descent(x, y, lr=0.001, epoch=100):\n",
        "      m=10\n",
        "      c=2\n",
        "      all_m_and_c, mse = [], []\n",
        "      N = len(x) \n",
        "    \n",
        "      for _ in range(epoch):\n",
        "        y_hat= m*x + c      \n",
        "        f = y - y_hat\n",
        "\n",
        "        # Updating m and b\n",
        "        m -= lr * (-2 * x.dot(f).sum() / N)\n",
        "        c -= lr * (-2 * f.sum() / N)\n",
        "        \n",
        "        all_m_and_c.append((m, c))\n",
        "        mse.append(mean_squared_error(y, (m*x + c)))        \n",
        "        \n",
        "      return m, c, all_m_and_c, mse\n",
        "\n",
        "    \n",
        "  \n"
      ],
      "execution_count": null,
      "outputs": []
    },
    {
      "cell_type": "code",
      "metadata": {
        "id": "EPP5Qt2uBdjO"
      },
      "source": [
        "m,c,all_m_and_c,mse=RegressionCalculator.gradient_descent(x,y)\n"
      ],
      "execution_count": null,
      "outputs": []
    },
    {
      "cell_type": "code",
      "metadata": {
        "colab": {
          "base_uri": "https://localhost:8080/"
        },
        "id": "BHpgjyLd3kY5",
        "outputId": "f12b1583-6fb3-47f3-f6f7-c117b8d2f179"
      },
      "source": [
        "mse"
      ],
      "execution_count": null,
      "outputs": [
        {
          "output_type": "execute_result",
          "data": {
            "text/plain": [
              "[62914511100.06612,\n",
              " 1433800839091.068,\n",
              " 32686082558404.31,\n",
              " 745148591451901.9,\n",
              " 1.6987253124407854e+16,\n",
              " 3.8726071504897824e+17,\n",
              " 8.828435091646498e+18,\n",
              " 2.012630332553186e+20,\n",
              " 4.588220690839043e+21,\n",
              " 1.0459828994597159e+23,\n",
              " 2.384541415251946e+24,\n",
              " 5.436071434809096e+25,\n",
              " 1.2392685845309637e+27,\n",
              " 2.825177415387132e+28,\n",
              " 6.440595306008175e+29,\n",
              " 1.468271255102413e+31,\n",
              " 3.3472379122298436e+32,\n",
              " 7.630743707699516e+33,\n",
              " 1.739591001877892e+35,\n",
              " 3.965769222154683e+36,\n",
              " 9.040817931577995e+37,\n",
              " 2.0610475368895296e+39,\n",
              " 4.698598048834904e+40,\n",
              " 1.071145775600734e+42,\n",
              " 2.4419055655799356e+43,\n",
              " 5.566845267037597e+44,\n",
              " 1.26908127259127e+46,\n",
              " 2.8931418050693226e+47,\n",
              " 6.59553464779208e+48,\n",
              " 1.503592987181056e+50,\n",
              " 3.427761344346625e+51,\n",
              " 7.814314069012184e+52,\n",
              " 1.781439786345488e+54,\n",
              " 4.061172464208144e+55,\n",
              " 9.258309997598665e+56,\n",
              " 2.1106294984285656e+58,\n",
              " 4.81163071963701e+59,\n",
              " 1.0969139870068077e+61,\n",
              " 2.5006497069291764e+62,\n",
              " 5.7007650835308124e+63,\n",
              " 1.2996111549551175e+65,\n",
              " 2.962741192341305e+66,\n",
              " 6.754201315776734e+67,\n",
              " 1.5397644428735805e+69,\n",
              " 3.5102219029210796e+70,\n",
              " 8.002300523807156e+71,\n",
              " 1.8242953136391513e+73,\n",
              " 4.158870791548858e+74,\n",
              " 9.481034200704758e+75,\n",
              " 2.1614042373616594e+77,\n",
              " 4.9273825812564515e+78,\n",
              " 1.123302096034847e+80,\n",
              " 2.5608070373024035e+81,\n",
              " 5.837906566226223e+82,\n",
              " 1.3308754849365332e+84,\n",
              " 3.0340149098172758e+85,\n",
              " 6.916684977056667e+86,\n",
              " 1.5768060637092461e+88,\n",
              " 3.5946661887849586e+89,\n",
              " 8.194809308633185e+90,\n",
              " 1.868181802649115e+92,\n",
              " 4.2589194163096535e+93,\n",
              " 9.709116408745015e+94,\n",
              " 2.213400447953154e+96,\n",
              " 5.045919048397193e+97,\n",
              " 1.1503250153637137e+99,\n",
              " 2.6224115533360564e+100,\n",
              " 5.978347217717443e+101,\n",
              " 1.3628919309069941e+103,\n",
              " 3.107003236323546e+104,\n",
              " 7.083077455819018e+105,\n",
              " 1.614738782972649e+107,\n",
              " 3.681141923831326e+108,\n",
              " 8.391949215737709e+109,\n",
              " 1.9131240548917163e+111,\n",
              " 4.36137487884402e+112,\n",
              " 9.942685517530817e+113,\n",
              " 2.2666475147561506e+115,\n",
              " 5.1673071094238275e+116,\n",
              " 1.1779980164218243e+118,\n",
              " 2.6854980695128147e+119,\n",
              " 6.122166405053245e+120,\n",
              " 1.395678586280352e+122,\n",
              " 3.1817474196612917e+123,\n",
              " 7.253472785236073e+124,\n",
              " 1.653584037533726e+126,\n",
              " 3.7696979779835865e+127,\n",
              " 8.593831654548553e+128,\n",
              " 1.9591474685254555e+130,\n",
              " 4.46629507967867e+131,\n",
              " 1.0181873523678917e+133,\n",
              " 2.321175529218554e+134,\n",
              " 5.291615364218644e+135,\n",
              " 1.206336738017468e+137,\n",
              " 2.7501022378362277e+138,\n",
              " 6.2694454045901e+139,\n",
              " 1.4292539797379214e+141,\n",
              " 3.258289699916834e+142,\n",
              " 7.42796726060602e+143,\n",
              " 1.6933637799623284e+145]"
            ]
          },
          "metadata": {
            "tags": []
          },
          "execution_count": 26
        }
      ]
    },
    {
      "cell_type": "code",
      "metadata": {
        "id": "zDg2w8tWB_wm"
      },
      "source": [
        "epoch=range(0,100)"
      ],
      "execution_count": null,
      "outputs": []
    },
    {
      "cell_type": "code",
      "metadata": {
        "colab": {
          "base_uri": "https://localhost:8080/",
          "height": 330
        },
        "id": "mwETx--t1fOv",
        "outputId": "af808177-c7fc-4d06-c699-40eea397582f"
      },
      "source": [
        "Y_Hat=RegressionCalculator.y_hat_values(x)\n",
        "for index in range(len(Y_Hat)):\n",
        "    all_y_hat=Y_Hat[index]\n",
        "    error=RegressionCalculator.error_values(y,all_y_hat)\n",
        "    for index in range(len(error)):\n",
        "        all_errors=error[index]\n",
        "        \n",
        "epoch=range(0,100)       \n",
        "plt.plot(epoch,all_errors)\n",
        "plt.title(\"Error Function\")\n",
        "plt.xlabel(\"Iteration number\")\n",
        "plt.ylabel(\"Error\")\n",
        "plt.legend()\n",
        "\n"
      ],
      "execution_count": null,
      "outputs": [
        {
          "output_type": "stream",
          "text": [
            "No handles with labels found to put in legend.\n"
          ],
          "name": "stderr"
        },
        {
          "output_type": "execute_result",
          "data": {
            "text/plain": [
              "<matplotlib.legend.Legend at 0x7fe516033c50>"
            ]
          },
          "metadata": {
            "tags": []
          },
          "execution_count": 28
        },
        {
          "output_type": "display_data",
          "data": {
            "image/png": "[encoded data removed]",
            "text/plain": [
              "<Figure size 432x288 with 1 Axes>"
            ]
          },
          "metadata": {
            "tags": [],
            "needs_background": "light"
          }
        }
      ]
    },
    {
      "cell_type": "markdown",
      "metadata": {
        "id": "MqjOUp5JKSKN"
      },
      "source": [
        "Train an intelligent linear regression model of your dataset above "
      ]
    },
    {
      "cell_type": "code",
      "metadata": {
        "id": "Aw_GJKkk-hfo"
      },
      "source": [
        "model = LinearRegression(fit_intercept=True)\n",
        "model.fit(x[:, np.newaxis], y)\n",
        "\n",
        "xfit = np.linspace(0, 100, 100)\n",
        "yfit = model.predict(xfit[:, np.newaxis])"
      ],
      "execution_count": null,
      "outputs": []
    },
    {
      "cell_type": "markdown",
      "metadata": {
        "id": "E6wN9a5yKsy2"
      },
      "source": [
        " Plot the line of best fit"
      ]
    },
    {
      "cell_type": "code",
      "metadata": {
        "colab": {
          "base_uri": "https://localhost:8080/",
          "height": 313
        },
        "id": "vcR4lDudKhHJ",
        "outputId": "eeb467eb-154b-4e8e-e67c-78c47c42f2eb"
      },
      "source": [
        "plt.scatter(x, y,label='Data')\n",
        "plt.title(\"(2).Plot the line of best fit\")\n",
        "plt.xlabel(\"Office size\")\n",
        "plt.ylabel(\"Office price\")\n",
        "plt.plot(xfit, yfit,c='#CC5500',label='Regression');\n",
        "plt.legend()"
      ],
      "execution_count": null,
      "outputs": [
        {
          "output_type": "execute_result",
          "data": {
            "text/plain": [
              "<matplotlib.legend.Legend at 0x7fe515ec6dd0>"
            ]
          },
          "metadata": {
            "tags": []
          },
          "execution_count": 38
        },
        {
          "output_type": "display_data",
          "data": {
            "image/png": "[encoded data removed]",
            "text/plain": [
              "<Figure size 432x288 with 1 Axes>"
            ]
          },
          "metadata": {
            "tags": [],
            "needs_background": "light"
          }
        }
      ]
    },
    {
      "cell_type": "markdown",
      "metadata": {
        "id": "GKb6iCEJdtI4"
      },
      "source": [
        "Predict the office price when the size is 100 sq. ft"
      ]
    },
    {
      "cell_type": "code",
      "metadata": {
        "id": "M3CgluU4JVDJ"
      },
      "source": [
        "x1=100"
      ],
      "execution_count": null,
      "outputs": []
    },
    {
      "cell_type": "code",
      "metadata": {
        "id": "_qRZy34aH52M"
      },
      "source": [
        "c1=model.intercept_"
      ],
      "execution_count": null,
      "outputs": []
    },
    {
      "cell_type": "code",
      "metadata": {
        "id": "6CxsDd5RI843"
      },
      "source": [
        "m=model.coef_[0]"
      ],
      "execution_count": null,
      "outputs": []
    },
    {
      "cell_type": "code",
      "metadata": {
        "id": "SuUzSpKIIZEF"
      },
      "source": [
        "y1=m*x1+c1"
      ],
      "execution_count": null,
      "outputs": []
    },
    {
      "cell_type": "code",
      "metadata": {
        "colab": {
          "base_uri": "https://localhost:8080/"
        },
        "id": "ZClHYHUIJYzx",
        "outputId": "f5c8b388-221d-4459-9816-239892ce8ef0"
      },
      "source": [
        "y1"
      ],
      "execution_count": null,
      "outputs": [
        {
          "output_type": "execute_result",
          "data": {
            "text/plain": [
              "98394.59051074176"
            ]
          },
          "metadata": {
            "tags": []
          },
          "execution_count": 35
        }
      ]
    }
  ]
}